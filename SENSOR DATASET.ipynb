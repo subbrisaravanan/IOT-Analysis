{
 "cells": [
  {
   "cell_type": "code",
   "execution_count": 28,
   "id": "1e2878bd-2cef-4821-91aa-62b5b35fa091",
   "metadata": {},
   "outputs": [],
   "source": [
    "import warnings\n",
    "warnings.filterwarnings('ignore')\n",
    "import numpy as np\n",
    "import pandas as pd\n",
    "import matplotlib.pyplot as plt\n",
    "import seaborn as sns"
   ]
  },
  {
   "cell_type": "code",
   "execution_count": 29,
   "id": "f1337028-ff77-4a24-9b70-d31d97c4b08f",
   "metadata": {},
   "outputs": [
    {
     "data": {
      "text/html": [
       "<div>\n",
       "<style scoped>\n",
       "    .dataframe tbody tr th:only-of-type {\n",
       "        vertical-align: middle;\n",
       "    }\n",
       "\n",
       "    .dataframe tbody tr th {\n",
       "        vertical-align: top;\n",
       "    }\n",
       "\n",
       "    .dataframe thead th {\n",
       "        text-align: right;\n",
       "    }\n",
       "</style>\n",
       "<table border=\"1\" class=\"dataframe\">\n",
       "  <thead>\n",
       "    <tr style=\"text-align: right;\">\n",
       "      <th></th>\n",
       "      <th>ID</th>\n",
       "      <th>Datetime</th>\n",
       "      <th>Temperature</th>\n",
       "      <th>Humidity</th>\n",
       "      <th>Pressure</th>\n",
       "      <th>Co2 Gas</th>\n",
       "      <th>PM2.5</th>\n",
       "      <th>PM10</th>\n",
       "      <th>Daytime</th>\n",
       "    </tr>\n",
       "  </thead>\n",
       "  <tbody>\n",
       "    <tr>\n",
       "      <th>0</th>\n",
       "      <td>0</td>\n",
       "      <td>Mon, 20 May 2019 19:08:34 GMT</td>\n",
       "      <td>23.005257</td>\n",
       "      <td>33.060454</td>\n",
       "      <td>972.784433</td>\n",
       "      <td>626</td>\n",
       "      <td>3.8</td>\n",
       "      <td>8.8</td>\n",
       "      <td>Night</td>\n",
       "    </tr>\n",
       "    <tr>\n",
       "      <th>1</th>\n",
       "      <td>1</td>\n",
       "      <td>Mon, 20 May 2019 19:08:35 GMT</td>\n",
       "      <td>22.989942</td>\n",
       "      <td>33.095483</td>\n",
       "      <td>972.844472</td>\n",
       "      <td>627</td>\n",
       "      <td>3.8</td>\n",
       "      <td>8.9</td>\n",
       "      <td>Night</td>\n",
       "    </tr>\n",
       "    <tr>\n",
       "      <th>2</th>\n",
       "      <td>2</td>\n",
       "      <td>Mon, 20 May 2019 19:08:36 GMT</td>\n",
       "      <td>23.000152</td>\n",
       "      <td>33.080467</td>\n",
       "      <td>972.804446</td>\n",
       "      <td>627</td>\n",
       "      <td>3.8</td>\n",
       "      <td>8.9</td>\n",
       "      <td>Night</td>\n",
       "    </tr>\n",
       "    <tr>\n",
       "      <th>3</th>\n",
       "      <td>3</td>\n",
       "      <td>Mon, 20 May 2019 19:08:36 GMT</td>\n",
       "      <td>22.989942</td>\n",
       "      <td>33.105487</td>\n",
       "      <td>972.732905</td>\n",
       "      <td>626</td>\n",
       "      <td>3.8</td>\n",
       "      <td>8.9</td>\n",
       "      <td>Night</td>\n",
       "    </tr>\n",
       "    <tr>\n",
       "      <th>4</th>\n",
       "      <td>4</td>\n",
       "      <td>Mon, 20 May 2019 19:08:37 GMT</td>\n",
       "      <td>22.995047</td>\n",
       "      <td>33.105482</td>\n",
       "      <td>972.768675</td>\n",
       "      <td>626</td>\n",
       "      <td>3.7</td>\n",
       "      <td>8.3</td>\n",
       "      <td>Night</td>\n",
       "    </tr>\n",
       "  </tbody>\n",
       "</table>\n",
       "</div>"
      ],
      "text/plain": [
       "   ID                       Datetime  Temperature   Humidity    Pressure  \\\n",
       "0   0  Mon, 20 May 2019 19:08:34 GMT    23.005257  33.060454  972.784433   \n",
       "1   1  Mon, 20 May 2019 19:08:35 GMT    22.989942  33.095483  972.844472   \n",
       "2   2  Mon, 20 May 2019 19:08:36 GMT    23.000152  33.080467  972.804446   \n",
       "3   3  Mon, 20 May 2019 19:08:36 GMT    22.989942  33.105487  972.732905   \n",
       "4   4  Mon, 20 May 2019 19:08:37 GMT    22.995047  33.105482  972.768675   \n",
       "\n",
       "   Co2 Gas  PM2.5  PM10 Daytime  \n",
       "0      626    3.8   8.8   Night  \n",
       "1      627    3.8   8.9   Night  \n",
       "2      627    3.8   8.9   Night  \n",
       "3      626    3.8   8.9   Night  \n",
       "4      626    3.7   8.3   Night  "
      ]
     },
     "execution_count": 29,
     "metadata": {},
     "output_type": "execute_result"
    }
   ],
   "source": [
    "df=pd.read_csv('dataset.csv')\n",
    "df.head()"
   ]
  },
  {
   "cell_type": "code",
   "execution_count": 30,
   "id": "96b55ce9-fffb-45b4-bcf9-44a00ffc18a3",
   "metadata": {},
   "outputs": [
    {
     "data": {
      "text/plain": [
       "(4100, 9)"
      ]
     },
     "execution_count": 30,
     "metadata": {},
     "output_type": "execute_result"
    }
   ],
   "source": [
    "df.shape"
   ]
  },
  {
   "cell_type": "code",
   "execution_count": 31,
   "id": "0b013965-3410-4faa-a262-86ec865f528b",
   "metadata": {},
   "outputs": [
    {
     "data": {
      "text/html": [
       "<div>\n",
       "<style scoped>\n",
       "    .dataframe tbody tr th:only-of-type {\n",
       "        vertical-align: middle;\n",
       "    }\n",
       "\n",
       "    .dataframe tbody tr th {\n",
       "        vertical-align: top;\n",
       "    }\n",
       "\n",
       "    .dataframe thead th {\n",
       "        text-align: right;\n",
       "    }\n",
       "</style>\n",
       "<table border=\"1\" class=\"dataframe\">\n",
       "  <thead>\n",
       "    <tr style=\"text-align: right;\">\n",
       "      <th></th>\n",
       "      <th>Temperature</th>\n",
       "      <th>Humidity</th>\n",
       "      <th>Pressure</th>\n",
       "      <th>Co2 Gas</th>\n",
       "      <th>PM2.5</th>\n",
       "      <th>PM10</th>\n",
       "      <th>Daytime</th>\n",
       "    </tr>\n",
       "  </thead>\n",
       "  <tbody>\n",
       "    <tr>\n",
       "      <th>0</th>\n",
       "      <td>23.005257</td>\n",
       "      <td>33.060454</td>\n",
       "      <td>972.784433</td>\n",
       "      <td>626</td>\n",
       "      <td>3.8</td>\n",
       "      <td>8.8</td>\n",
       "      <td>Night</td>\n",
       "    </tr>\n",
       "    <tr>\n",
       "      <th>1</th>\n",
       "      <td>22.989942</td>\n",
       "      <td>33.095483</td>\n",
       "      <td>972.844472</td>\n",
       "      <td>627</td>\n",
       "      <td>3.8</td>\n",
       "      <td>8.9</td>\n",
       "      <td>Night</td>\n",
       "    </tr>\n",
       "    <tr>\n",
       "      <th>2</th>\n",
       "      <td>23.000152</td>\n",
       "      <td>33.080467</td>\n",
       "      <td>972.804446</td>\n",
       "      <td>627</td>\n",
       "      <td>3.8</td>\n",
       "      <td>8.9</td>\n",
       "      <td>Night</td>\n",
       "    </tr>\n",
       "    <tr>\n",
       "      <th>3</th>\n",
       "      <td>22.989942</td>\n",
       "      <td>33.105487</td>\n",
       "      <td>972.732905</td>\n",
       "      <td>626</td>\n",
       "      <td>3.8</td>\n",
       "      <td>8.9</td>\n",
       "      <td>Night</td>\n",
       "    </tr>\n",
       "    <tr>\n",
       "      <th>4</th>\n",
       "      <td>22.995047</td>\n",
       "      <td>33.105482</td>\n",
       "      <td>972.768675</td>\n",
       "      <td>626</td>\n",
       "      <td>3.7</td>\n",
       "      <td>8.3</td>\n",
       "      <td>Night</td>\n",
       "    </tr>\n",
       "  </tbody>\n",
       "</table>\n",
       "</div>"
      ],
      "text/plain": [
       "   Temperature   Humidity    Pressure  Co2 Gas  PM2.5  PM10 Daytime\n",
       "0    23.005257  33.060454  972.784433      626    3.8   8.8   Night\n",
       "1    22.989942  33.095483  972.844472      627    3.8   8.9   Night\n",
       "2    23.000152  33.080467  972.804446      627    3.8   8.9   Night\n",
       "3    22.989942  33.105487  972.732905      626    3.8   8.9   Night\n",
       "4    22.995047  33.105482  972.768675      626    3.7   8.3   Night"
      ]
     },
     "execution_count": 31,
     "metadata": {},
     "output_type": "execute_result"
    }
   ],
   "source": [
    "df=df.drop(['ID','Datetime'],axis=1)\n",
    "df.head()"
   ]
  },
  {
   "cell_type": "code",
   "execution_count": 32,
   "id": "ee59a731-ef16-406a-9dac-683dff3418b6",
   "metadata": {},
   "outputs": [
    {
     "name": "stdout",
     "output_type": "stream",
     "text": [
      "<class 'pandas.core.frame.DataFrame'>\n",
      "RangeIndex: 4100 entries, 0 to 4099\n",
      "Data columns (total 7 columns):\n",
      " #   Column       Non-Null Count  Dtype  \n",
      "---  ------       --------------  -----  \n",
      " 0   Temperature  4100 non-null   float64\n",
      " 1   Humidity     4100 non-null   float64\n",
      " 2   Pressure     4100 non-null   float64\n",
      " 3   Co2 Gas      4100 non-null   int64  \n",
      " 4   PM2.5        4100 non-null   float64\n",
      " 5   PM10         4100 non-null   float64\n",
      " 6   Daytime      4100 non-null   object \n",
      "dtypes: float64(5), int64(1), object(1)\n",
      "memory usage: 224.3+ KB\n"
     ]
    }
   ],
   "source": [
    "df.info()"
   ]
  },
  {
   "cell_type": "code",
   "execution_count": 33,
   "id": "f805b979-1405-4576-b6f5-033cf8ffd116",
   "metadata": {},
   "outputs": [
    {
     "data": {
      "text/plain": [
       "<AxesSubplot:xlabel='Daytime'>"
      ]
     },
     "execution_count": 33,
     "metadata": {},
     "output_type": "execute_result"
    },
    {
     "data": {
      "image/png": "[encoded data removed]",
      "text/plain": [
       "<Figure size 432x288 with 1 Axes>"
      ]
     },
     "metadata": {
      "needs_background": "light"
     },
     "output_type": "display_data"
    }
   ],
   "source": [
    "df.groupby('Daytime')['Humidity'].mean().plot.bar()"
   ]
  },
  {
   "cell_type": "code",
   "execution_count": 34,
   "id": "0b2c0526-9061-46c4-9365-daf880c4324f",
   "metadata": {},
   "outputs": [
    {
     "data": {
      "text/plain": [
       "<AxesSubplot:xlabel='Daytime'>"
      ]
     },
     "execution_count": 34,
     "metadata": {},
     "output_type": "execute_result"
    },
    {
     "data": {
      "image/png": "[encoded data removed]",
      "text/plain": [
       "<Figure size 432x288 with 1 Axes>"
      ]
     },
     "metadata": {
      "needs_background": "light"
     },
     "output_type": "display_data"
    }
   ],
   "source": [
    "df.groupby('Daytime')['Pressure'].mean().plot.bar()"
   ]
  },
  {
   "cell_type": "code",
   "execution_count": 35,
   "id": "50c24a3b-8dcf-4862-8798-cad7a7dd0dad",
   "metadata": {},
   "outputs": [
    {
     "data": {
      "text/plain": [
       "<AxesSubplot:xlabel='Daytime'>"
      ]
     },
     "execution_count": 35,
     "metadata": {},
     "output_type": "execute_result"
    },
    {
     "data": {
      "image/png": "[encoded data removed]",
      "text/plain": [
       "<Figure size 432x288 with 1 Axes>"
      ]
     },
     "metadata": {
      "needs_background": "light"
     },
     "output_type": "display_data"
    }
   ],
   "source": [
    "df.groupby('Daytime')['Co2 Gas'].mean().plot.bar()"
   ]
  },
  {
   "cell_type": "code",
   "execution_count": 36,
   "id": "73179507-5e4b-4f5f-9023-64c7bb4c2355",
   "metadata": {},
   "outputs": [
    {
     "data": {
      "text/plain": [
       "<AxesSubplot:xlabel='Daytime'>"
      ]
     },
     "execution_count": 36,
     "metadata": {},
     "output_type": "execute_result"
    },
    {
     "data": {
      "image/png": "[encoded data removed]",
      "text/plain": [
       "<Figure size 432x288 with 1 Axes>"
      ]
     },
     "metadata": {
      "needs_background": "light"
     },
     "output_type": "display_data"
    }
   ],
   "source": [
    "df.groupby('Daytime')['PM2.5'].mean().plot.bar()"
   ]
  },
  {
   "cell_type": "code",
   "execution_count": 37,
   "id": "bca09706-567a-4ce6-a979-61d539e2bb4f",
   "metadata": {},
   "outputs": [
    {
     "data": {
      "text/plain": [
       "<AxesSubplot:xlabel='Daytime'>"
      ]
     },
     "execution_count": 37,
     "metadata": {},
     "output_type": "execute_result"
    },
    {
     "data": {
      "image/png": "[encoded data removed]",
      "text/plain": [
       "<Figure size 432x288 with 1 Axes>"
      ]
     },
     "metadata": {
      "needs_background": "light"
     },
     "output_type": "display_data"
    }
   ],
   "source": [
    "df.groupby('Daytime')['PM10'].mean().plot.bar()"
   ]
  },
  {
   "cell_type": "code",
   "execution_count": 38,
   "id": "6d1a68e8-d87d-4dd2-adfe-b3730fc5e6cc",
   "metadata": {},
   "outputs": [
    {
     "data": {
      "text/plain": [
       "11.2      96\n",
       "9.8       86\n",
       "9.7       82\n",
       "10.7      82\n",
       "10.3      80\n",
       "          ..\n",
       "16.4       1\n",
       "258.1      1\n",
       "35.9       1\n",
       "1024.5     1\n",
       "331.7      1\n",
       "Name: PM10, Length: 524, dtype: int64"
      ]
     },
     "execution_count": 38,
     "metadata": {},
     "output_type": "execute_result"
    }
   ],
   "source": [
    "df['PM10'].value_counts()"
   ]
  },
  {
   "cell_type": "code",
   "execution_count": 39,
   "id": "816a9c78-cc30-4e9e-a5b7-4e602ec8cb95",
   "metadata": {},
   "outputs": [
    {
     "data": {
      "text/html": [
       "<div>\n",
       "<style scoped>\n",
       "    .dataframe tbody tr th:only-of-type {\n",
       "        vertical-align: middle;\n",
       "    }\n",
       "\n",
       "    .dataframe tbody tr th {\n",
       "        vertical-align: top;\n",
       "    }\n",
       "\n",
       "    .dataframe thead th {\n",
       "        text-align: right;\n",
       "    }\n",
       "</style>\n",
       "<table border=\"1\" class=\"dataframe\">\n",
       "  <thead>\n",
       "    <tr style=\"text-align: right;\">\n",
       "      <th></th>\n",
       "      <th>Temperature</th>\n",
       "      <th>Humidity</th>\n",
       "      <th>Pressure</th>\n",
       "      <th>Co2 Gas</th>\n",
       "      <th>PM2.5</th>\n",
       "      <th>PM10</th>\n",
       "      <th>Daytime</th>\n",
       "    </tr>\n",
       "  </thead>\n",
       "  <tbody>\n",
       "    <tr>\n",
       "      <th>0</th>\n",
       "      <td>23.005257</td>\n",
       "      <td>33.060454</td>\n",
       "      <td>972.784433</td>\n",
       "      <td>626</td>\n",
       "      <td>3.8</td>\n",
       "      <td>8.8</td>\n",
       "      <td>Night</td>\n",
       "    </tr>\n",
       "    <tr>\n",
       "      <th>1</th>\n",
       "      <td>22.989942</td>\n",
       "      <td>33.095483</td>\n",
       "      <td>972.844472</td>\n",
       "      <td>627</td>\n",
       "      <td>3.8</td>\n",
       "      <td>8.9</td>\n",
       "      <td>Night</td>\n",
       "    </tr>\n",
       "    <tr>\n",
       "      <th>2</th>\n",
       "      <td>23.000152</td>\n",
       "      <td>33.080467</td>\n",
       "      <td>972.804446</td>\n",
       "      <td>627</td>\n",
       "      <td>3.8</td>\n",
       "      <td>8.9</td>\n",
       "      <td>Night</td>\n",
       "    </tr>\n",
       "    <tr>\n",
       "      <th>3</th>\n",
       "      <td>22.989942</td>\n",
       "      <td>33.105487</td>\n",
       "      <td>972.732905</td>\n",
       "      <td>626</td>\n",
       "      <td>3.8</td>\n",
       "      <td>8.9</td>\n",
       "      <td>Night</td>\n",
       "    </tr>\n",
       "    <tr>\n",
       "      <th>4</th>\n",
       "      <td>22.995047</td>\n",
       "      <td>33.105482</td>\n",
       "      <td>972.768675</td>\n",
       "      <td>626</td>\n",
       "      <td>3.7</td>\n",
       "      <td>8.3</td>\n",
       "      <td>Night</td>\n",
       "    </tr>\n",
       "  </tbody>\n",
       "</table>\n",
       "</div>"
      ],
      "text/plain": [
       "   Temperature   Humidity    Pressure  Co2 Gas  PM2.5  PM10 Daytime\n",
       "0    23.005257  33.060454  972.784433      626    3.8   8.8   Night\n",
       "1    22.989942  33.095483  972.844472      627    3.8   8.9   Night\n",
       "2    23.000152  33.080467  972.804446      627    3.8   8.9   Night\n",
       "3    22.989942  33.105487  972.732905      626    3.8   8.9   Night\n",
       "4    22.995047  33.105482  972.768675      626    3.7   8.3   Night"
      ]
     },
     "execution_count": 39,
     "metadata": {},
     "output_type": "execute_result"
    }
   ],
   "source": [
    "df1=df[df['PM10']<35]\n",
    "df1.head()"
   ]
  },
  {
   "cell_type": "code",
   "execution_count": 40,
   "id": "4bf7842e-982e-4e15-9b7c-8e51593912c2",
   "metadata": {},
   "outputs": [
    {
     "data": {
      "text/plain": [
       "(3685, 7)"
      ]
     },
     "execution_count": 40,
     "metadata": {},
     "output_type": "execute_result"
    }
   ],
   "source": [
    "df1.shape"
   ]
  },
  {
   "cell_type": "code",
   "execution_count": 41,
   "id": "f326b998-5524-415b-b401-f7db9915c9cd",
   "metadata": {},
   "outputs": [
    {
     "data": {
      "text/plain": [
       "<AxesSubplot:xlabel='Daytime'>"
      ]
     },
     "execution_count": 41,
     "metadata": {},
     "output_type": "execute_result"
    },
    {
     "data": {
      "image/png": "[encoded data removed]",
      "text/plain": [
       "<Figure size 432x288 with 1 Axes>"
      ]
     },
     "metadata": {
      "needs_background": "light"
     },
     "output_type": "display_data"
    }
   ],
   "source": [
    "df1.groupby('Daytime')['PM10'].mean().plot.bar()"
   ]
  },
  {
   "cell_type": "code",
   "execution_count": null,
   "id": "d0d47484-e96f-4cd7-9c9e-774649bd9459",
   "metadata": {},
   "outputs": [],
   "source": []
  }
 ],
 "metadata": {
  "kernelspec": {
   "display_name": "Python 3",
   "language": "python",
   "name": "python3"
  },
  "language_info": {
   "codemirror_mode": {
    "name": "ipython",
    "version": 3
   },
   "file_extension": ".py",
   "mimetype": "text/x-python",
   "name": "python",
   "nbconvert_exporter": "python",
   "pygments_lexer": "ipython3",
   "version": "3.8.8"
  }
 },
 "nbformat": 4,
 "nbformat_minor": 5
}
